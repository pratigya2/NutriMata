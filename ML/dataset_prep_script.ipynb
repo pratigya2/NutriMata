{
 "cells": [
  {
   "cell_type": "code",
   "execution_count": null,
   "id": "f69634f5",
   "metadata": {},
   "outputs": [],
   "source": [
    "import random\n",
    "import pandas  as pd\n",
    "from sklearn.model_selection import train_test_split\n",
    "from sklearn.tree import DecisionTreeClassifier\n",
    "from sklearn.neighbors import NearestNeighbors\n",
    "import numpy as np \n",
    "\n"
   ]
  },
  {
   "cell_type": "code",
   "execution_count": null,
   "id": "9c82721f",
   "metadata": {},
   "outputs": [],
   "source": [
    "#Prediction\n",
    "data = './meals.csv'\n",
    "df = pd.read_csv(data)"
   ]
  },
  {
   "cell_type": "code",
   "execution_count": null,
   "id": "21358409",
   "metadata": {},
   "outputs": [],
   "source": [
    "\n",
    "def recommend_meal(u_input):\n",
    "    saved_model = 'model.pk'\n",
    "    meals = df.iloc[:, :1].values\n",
    "    recommendation = list()\n",
    "    \n",
    "    \n",
    "    input = u_input[0:3]\n",
    "    input.append(u_input[5])\n",
    "    input = [input]\n",
    "\n",
    "    with open(saved_model, 'rb') as f :\n",
    "        loaded_model = pickle.load(f)\n",
    "        dis, indices = loaded_model.kneighbors(input)\n",
    "\n",
    "    for value in indices[0]:\n",
    "      recommendation.append(meals[value])\n",
    "\n",
    "    r = np.array(recommendation)\n",
    "    r = r.flatten()\n",
    "    \n",
    "    recommendations = df.loc[df['Nepali Food Name'].isin(r)]\n",
    "    \n",
    "  #Using the filters\n",
    "    user_input = u_input\n",
    "    if(user_input[3]==0.5):\n",
    "        r1 = recommendations\n",
    "    else:\n",
    "        r1 = recommendations[recommendations['Vegetarian']==user_input[3]]\n",
    "\n",
    "    if (user_input[4]==0.5):\n",
    "        r2=r1\n",
    "    else:\n",
    "        r2 = r1[r1['Dairy-Free']==user_input[4]]\n",
    "\n",
    "    if (user_input[6]==0.5):\n",
    "        r3=r2\n",
    "    else:\n",
    "        r3 = r2[r2['Oil-Free']==user_input[6]]\n",
    "\n",
    "    return r3\n",
    "      \n",
    "    "
   ]
  },
  {
   "cell_type": "code",
   "execution_count": null,
   "id": "70c8bb96",
   "metadata": {},
   "outputs": [],
   "source": []
  }
 ],
 "metadata": {
  "kernelspec": {
   "display_name": "Python 3 (ipykernel)",
   "language": "python",
   "name": "python3"
  },
  "language_info": {
   "codemirror_mode": {
    "name": "ipython",
    "version": 3
   },
   "file_extension": ".py",
   "mimetype": "text/x-python",
   "name": "python",
   "nbconvert_exporter": "python",
   "pygments_lexer": "ipython3",
   "version": "3.10.6"
  }
 },
 "nbformat": 4,
 "nbformat_minor": 5
}
